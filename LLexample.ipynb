{
 "cells": [
  {
   "attachments": {
    "0c53875f-259e-45be-89cb-6b7cb65431f6.png": {
     "image/png": "[encoded data removed]"
    }
   },
   "cell_type": "markdown",
   "id": "0",
   "metadata": {},
   "source": [
    "Loglikelihood example\n",
    "===\n",
    "\n",
    "![image.png](attachment:0c53875f-259e-45be-89cb-6b7cb65431f6.png)"
   ]
  },
  {
   "cell_type": "code",
   "execution_count": 8,
   "id": "1",
   "metadata": {},
   "outputs": [],
   "source": [
    "import ROOT as r\n",
    "import numpy as np\n",
    "# use static plots\n",
    "%jsroot off"
   ]
  },
  {
   "cell_type": "code",
   "execution_count": 9,
   "id": "2",
   "metadata": {},
   "outputs": [
    {
     "name": "stderr",
     "output_type": "stream",
     "text": [
      "Warning in <TROOT::Append>: Replacing existing TH1: hdata (Potential memory leak).\n",
      "Warning in <TROOT::Append>: Replacing existing TH1: hmodel (Potential memory leak).\n"
     ]
    }
   ],
   "source": [
    "# recreate the above plot as a histogram\n",
    "x=np.array([-.95,-.85,-.75,-.55,-.35,-.15,-.05,.05,.35,.65,.95])\n",
    "y=np.array([1,1,2,2,2,2,2,1,1,1,1])\n",
    "hdata=r.TH1F(\"hdata\",\"data distibution;cos#theta;Events/0.1\",20,-1,1)\n",
    "hmodel=r.TH1F(\"hmodel\",\"model distibution;cos#theta;Events/0.1\",20,-1,1)\n",
    "model=r.TF1(\"model\",\"1.05-x\",-1,1)\n",
    "hmodel.SetLineColor(r.kRed)\n",
    "for i in range(len(x)): \n",
    "    hdata.Fill(x[i],y[i])\n",
    "for i in range(1,hmodel.GetNbinsX()+1):\n",
    "    xi=hmodel.GetBinCenter(i)\n",
    "    hmodel.Fill(xi,model.Eval(xi))"
   ]
  },
  {
   "cell_type": "code",
   "execution_count": 10,
   "id": "3",
   "metadata": {},
   "outputs": [
    {
     "data": {
      "image/png": "[encoded data removed]",
      "text/plain": [
       "<IPython.core.display.Image object>"
      ]
     },
     "metadata": {},
     "output_type": "display_data"
    }
   ],
   "source": [
    "tc=r.TCanvas()\n",
    "hdata.Draw(\"e\")\n",
    "hmodel.Draw(\"hist,same\")\n",
    "tc.Draw()"
   ]
  },
  {
   "cell_type": "markdown",
   "id": "4",
   "metadata": {},
   "source": [
    "Calculation of -NLL\n",
    "---"
   ]
  },
  {
   "cell_type": "code",
   "execution_count": 11,
   "id": "5",
   "metadata": {},
   "outputs": [],
   "source": [
    "# both data and model are expected to be histograms here\n",
    "from math import log\n",
    "def calcNLL(data,model):\n",
    "    NLL=0.0\n",
    "    for i in range(1,data.GetNbinsX()+1):\n",
    "        nExpected = model.GetBinContent(i)\n",
    "        nObs = data.GetBinContent(i)\n",
    "        prob = r.TMath.Poisson(nObs,nExpected)  # Poisson P(nobs; mu=nExpected)\n",
    "        NLL -= log(prob)\n",
    "    return NLL"
   ]
  },
  {
   "cell_type": "code",
   "execution_count": 12,
   "id": "6",
   "metadata": {},
   "outputs": [
    {
     "name": "stdout",
     "output_type": "stream",
     "text": [
      "NLL for the data and model is: 23.4\n"
     ]
    }
   ],
   "source": [
    "print(f'NLL for the data and model is: {calcNLL(hdata,hmodel):0.1f}')"
   ]
  },
  {
   "cell_type": "markdown",
   "id": "7",
   "metadata": {},
   "source": [
    "Generate a pseudoexperiment\n",
    "---"
   ]
  },
  {
   "cell_type": "code",
   "execution_count": 13,
   "id": "8",
   "metadata": {},
   "outputs": [],
   "source": [
    "from math import sqrt\n",
    "def makePE(model,h):\n",
    "    tr=r.TRandom2(0)\n",
    "    for i in range(1,h.GetNbinsX()+1):\n",
    "        nExpected = model.GetBinContent(i)\n",
    "        nObs = tr.Poisson(nExpected) # random pseudodata based on the model\n",
    "        h.SetBinContent(i,nObs)\n",
    "        h.SetBinError(i,sqrt(nObs))"
   ]
  },
  {
   "cell_type": "code",
   "execution_count": 14,
   "id": "9",
   "metadata": {},
   "outputs": [
    {
     "ename": "TypeError",
     "evalue": "none of the 3 overloaded methods succeeded. Full details:\n  void TH1::SetBinContent(Int_t bin, Double_t content) =>\n    TypeError: could not convert argument 2 (must be real number, not NoneType)\n  void TH1::SetBinContent(Int_t bin, Int_t, Double_t content) =>\n    TypeError: takes at least 3 arguments (2 given)\n  void TH1::SetBinContent(Int_t bin, Int_t, Int_t, Double_t content) =>\n    TypeError: takes at least 4 arguments (2 given)",
     "output_type": "error",
     "traceback": [
      "\u001b[0;31m---------------------------------------------------------------------------\u001b[0m",
      "\u001b[0;31mTypeError\u001b[0m                                 Traceback (most recent call last)",
      "Cell \u001b[0;32mIn[14], line 7\u001b[0m\n\u001b[1;32m      5\u001b[0m hPE[i\u001b[38;5;241m-\u001b[39m\u001b[38;5;241m1\u001b[39m]\u001b[38;5;241m=\u001b[39mhdata\u001b[38;5;241m.\u001b[39mClone(\u001b[38;5;124mf\u001b[39m\u001b[38;5;124m\"\u001b[39m\u001b[38;5;124mhpseudo\u001b[39m\u001b[38;5;132;01m{\u001b[39;00mi\u001b[38;5;132;01m}\u001b[39;00m\u001b[38;5;124m\"\u001b[39m)\n\u001b[1;32m      6\u001b[0m hPE[i\u001b[38;5;241m-\u001b[39m\u001b[38;5;241m1\u001b[39m]\u001b[38;5;241m.\u001b[39mReset()  \u001b[38;5;66;03m# clear entries to empty histogram\u001b[39;00m\n\u001b[0;32m----> 7\u001b[0m \u001b[43mmakePE\u001b[49m\u001b[43m(\u001b[49m\u001b[43mhmodel\u001b[49m\u001b[43m,\u001b[49m\u001b[43mhPE\u001b[49m\u001b[43m[\u001b[49m\u001b[43mi\u001b[49m\u001b[38;5;241;43m-\u001b[39;49m\u001b[38;5;241;43m1\u001b[39;49m\u001b[43m]\u001b[49m\u001b[43m)\u001b[49m\n\u001b[1;32m      8\u001b[0m tc2\u001b[38;5;241m.\u001b[39mcd(i)\n\u001b[1;32m      9\u001b[0m hPE[i\u001b[38;5;241m-\u001b[39m\u001b[38;5;241m1\u001b[39m]\u001b[38;5;241m.\u001b[39mDraw(\u001b[38;5;124m\"\u001b[39m\u001b[38;5;124me\u001b[39m\u001b[38;5;124m\"\u001b[39m)\n",
      "Cell \u001b[0;32mIn[13], line 7\u001b[0m, in \u001b[0;36mmakePE\u001b[0;34m(model, h)\u001b[0m\n\u001b[1;32m      5\u001b[0m nExpected \u001b[38;5;241m=\u001b[39m model\u001b[38;5;241m.\u001b[39mGetBinContent(i)\n\u001b[1;32m      6\u001b[0m nObs \u001b[38;5;241m=\u001b[39m tr\u001b[38;5;241m.\u001b[39mPoisson(nExpected) \u001b[38;5;66;03m# random pseudodata based on the model\u001b[39;00m\n\u001b[0;32m----> 7\u001b[0m \u001b[43mh\u001b[49m\u001b[38;5;241;43m.\u001b[39;49m\u001b[43mSetBinContent\u001b[49m\u001b[43m(\u001b[49m\u001b[43mi\u001b[49m\u001b[43m,\u001b[49m\u001b[43mnObs\u001b[49m\u001b[43m)\u001b[49m\n\u001b[1;32m      8\u001b[0m h\u001b[38;5;241m.\u001b[39mSetBinError(i,sqrt(nObs))\n",
      "\u001b[0;31mTypeError\u001b[0m: none of the 3 overloaded methods succeeded. Full details:\n  void TH1::SetBinContent(Int_t bin, Double_t content) =>\n    TypeError: could not convert argument 2 (must be real number, not NoneType)\n  void TH1::SetBinContent(Int_t bin, Int_t, Double_t content) =>\n    TypeError: takes at least 3 arguments (2 given)\n  void TH1::SetBinContent(Int_t bin, Int_t, Int_t, Double_t content) =>\n    TypeError: takes at least 4 arguments (2 given)"
     ]
    }
   ],
   "source": [
    "tc2=r.TCanvas()\n",
    "tc2.Divide(2,2)\n",
    "hPE=[0]*4 # histograms for pseudoexperiments\n",
    "for i in range(1,5):\n",
    "    hPE[i-1]=hdata.Clone(f\"hpseudo{i}\")\n",
    "    hPE[i-1].Reset()  # clear entries to empty histogram\n",
    "    makePE(hmodel,hPE[i-1])\n",
    "    tc2.cd(i)\n",
    "    hPE[i-1].Draw(\"e\")\n",
    "tc2.Draw()"
   ]
  },
  {
   "cell_type": "markdown",
   "id": "10",
   "metadata": {},
   "source": [
    "Finally we can calculate the expected NLL distribution by histograing the NLLs for many PEs like this.  And use that distribution (intergal of NLL PDF for getting worse agreement between our data and model) to interpret the level of agreement for the NLL = 23.4 calculated above."
   ]
  },
  {
   "cell_type": "code",
   "execution_count": null,
   "id": "11",
   "metadata": {},
   "outputs": [],
   "source": [
    "for i in range(len(hPE)):\n",
    "    print (\"PE NLL:\",calcNLL(hPE[i],hmodel))"
   ]
  },
  {
   "cell_type": "code",
   "execution_count": null,
   "id": "12",
   "metadata": {},
   "outputs": [],
   "source": []
  }
 ],
 "metadata": {
  "kernelspec": {
   "display_name": "PHYS56xx Env",
   "language": "python",
   "name": "phys56xx"
  },
  "language_info": {
   "codemirror_mode": {
    "name": "ipython",
    "version": 3
   },
   "file_extension": ".py",
   "mimetype": "text/x-python",
   "name": "python",
   "nbconvert_exporter": "python",
   "pygments_lexer": "ipython3",
   "version": "3.10.15"
  }
 },
 "nbformat": 4,
 "nbformat_minor": 5
}
